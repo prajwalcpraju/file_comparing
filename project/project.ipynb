{
 "cells": [
  {
   "cell_type": "code",
   "execution_count": 167,
   "id": "8d6a1879-40ab-4103-a0f6-62c8ab0a6fb1",
   "metadata": {},
   "outputs": [],
   "source": [
    "grp1=\"Agriculture is the practice of cultivating plants and livestock.[1] Agriculture was the key development in the rise of sedentary human civilization, whereby farming of domesticated species created food surpluses that enabled people to live in cities. The history of agriculture began thousands of years ago. After gathering wild grains beginning at least 105,000 years ago, nascent farmers began to plant them around 11,500 years ago. Pigs, sheep, and cattle were domesticated over 10,000 years ago. Plants were independently cultivated in at least 11 regions of the world. Industrial agriculture based on large-scale monoculture in the twentieth century came to dominate agricultural output, though about 2 billion people still depended on subsistence agriculture.\""
   ]
  },
  {
   "cell_type": "code",
   "execution_count": 168,
   "id": "7a0f4ed5-d617-4478-b699-d594d4cd8b82",
   "metadata": {},
   "outputs": [],
   "source": [
    "grp2=\"The major agricultural products can be broadly grouped into foods, fibers, fuels and raw materials (such as rubber). Food classes include cereals (grains), vegetables, fruits, oils, meat, milk, eggs and fungi. Over one-third of the world's workers are employed in agriculture, second only to the service sector, although in recent decades, the global trend of a decreasing number of agricultural workers continues, especially in developing countries where smallholding is being overtaken by industrial agriculture and mechanization that brings a enormous crop yield increase.\""
   ]
  },
  {
   "cell_type": "code",
   "execution_count": 169,
   "id": "56b7f2cb-c1c3-4d9e-8a1d-709559fcce16",
   "metadata": {},
   "outputs": [],
   "source": [
    "grp3=\"Modern agronomy, plant breeding, agrochemicals such as pesticides and fertilizers, and technological developments have sharply increased crop yields, but causing ecological and environmental damage. Selective breeding and modern practices in animal husbandry have similarly increased the output of meat, but have raised concerns about animal welfare and environmental damage. Environmental issues include contributions to global warming, depletion of aquifers, deforestation, antibiotic resistance, and growth hormones in industrial meat production. Agriculture is both a cause of and sensitive to environmental degradation, such as biodiversity loss, desertification, soil degradation and global warming, all of which can cause decreases in crop yield. Genetically modified organisms are widely used, although some are banned in certain countries.\""
   ]
  },
  {
   "cell_type": "code",
   "execution_count": 170,
   "id": "c8bad0e9-5c1e-430b-bcbf-003491e527c7",
   "metadata": {},
   "outputs": [],
   "source": [
    "grp4=\"Agriculture, specifically farming, remains a hazardous industry, and farmers worldwide remain at high risk of work-related injuries, lung disease, noise-induced hearing loss, skin diseases, as well as certain cancers related to chemical use and prolonged sun exposure. On industrialized farms, injuries frequently involve the use of agricultural machinery, and a common cause of fatal agricultural injuries in developed countries is tractor rollovers.[102] Pesticides and other chemicals used in farming can be hazardous to worker health, and workers exposed to pesticides may experience illness or have children with birth defects.[103] As an industry in which families commonly share in work and live on the farm itself, entire families can be at risk for injuries, illness, and death.[104] Ages 0–6 May be an especially vulnerable population in agriculture;[105] common causes of fatal injuries among young farm workers include drowning, machinery and motor accidents, including with all-terrain vehicles.\""
   ]
  },
  {
   "cell_type": "code",
   "execution_count": 171,
   "id": "3af27e1a-6c3c-40e3-9763-ab414fcb9955",
   "metadata": {},
   "outputs": [],
   "source": [
    "grp5=\"Agriculture is both a cause of and sensitive to environmental degradation, such as biodiversity loss, desertification, soil degradation and global warming, which cause decrease in crop yield.[149] Agriculture is one of the most important drivers of environmental pressures, particularly habitat change, climate change, water use and toxic emissions. Agriculture is the main source of toxins released into the environment, including insecticides, especially those used on cotton.[150][151][page needed] The 2011 UNEP Green Economy report stated that agricultural operations produced some 13 per cent of anthropogenic global greenhouse gas emissions. This includes gases from the use of inorganic fertilizers, agro-chemical pesticides, and herbicides, as well as fossil fuel-energy inputs.[152]\""
   ]
  },
  {
   "cell_type": "code",
   "execution_count": 172,
   "id": "299344f0-daba-439f-8bd7-01ae60a4e285",
   "metadata": {},
   "outputs": [],
   "source": [
    "groups=[grp1,grp2,grp3,grp4,grp5]"
   ]
  },
  {
   "cell_type": "code",
   "execution_count": 173,
   "id": "166e1952-64e7-4006-ab7c-191558bef49d",
   "metadata": {},
   "outputs": [],
   "source": [
    "grp_name=['group1','group2','group3','group4','group5']"
   ]
  },
  {
   "cell_type": "code",
   "execution_count": 174,
   "id": "80f34ad1-52a6-4827-905f-3ffd622fae45",
   "metadata": {},
   "outputs": [],
   "source": [
    "import nltk\n",
    "from nltk.corpus import stopwords\n",
    "from nltk.tokenize import word_tokenize"
   ]
  },
  {
   "cell_type": "code",
   "execution_count": 175,
   "id": "1285a8e6-6e21-4fb7-818b-f8b1a4b347e0",
   "metadata": {},
   "outputs": [],
   "source": [
    "tk_words=[]\n",
    "for i,items in enumerate(groups):\n",
    "    t=word_tokenize(groups[i])\n",
    "    tk_words.append(t)"
   ]
  },
  {
   "cell_type": "code",
   "execution_count": 176,
   "id": "b5f169e3-8147-45c6-b96d-bb2611ed639e",
   "metadata": {},
   "outputs": [],
   "source": [
    "fw_words=[]\n",
    "for i,items in enumerate(tk_words):\n",
    "    sw=stopwords.words('english')\n",
    "    final_words=[word for word in items if word not in sw]\n",
    "    final_words.sort()\n",
    "    fw_words.append(final_words)\n",
    "    \n",
    "final_groups=list()\n",
    "for i,items in enumerate(fw_words):\n",
    "    fg= list()\n",
    "    for item in fw_words[i]:\n",
    "        if item not in fg:\n",
    "            fg.append(item)\n",
    "    final_groups.append(fg)"
   ]
  },
  {
   "cell_type": "code",
   "execution_count": 177,
   "id": "48dd0477-e8a5-46cb-adf9-7b98e5c0b530",
   "metadata": {},
   "outputs": [],
   "source": [
    "with open('sample.txt','r') as file:\n",
    "        file_1=file.readlines()"
   ]
  },
  {
   "cell_type": "code",
   "execution_count": 178,
   "id": "d4fdc212-21a5-437c-a94c-7756bf85bbb0",
   "metadata": {},
   "outputs": [],
   "source": [
    "tk_file= [phrase.split() for phrase in file_1]"
   ]
  },
  {
   "cell_type": "code",
   "execution_count": 179,
   "id": "291bd533-4a27-4f8f-abaa-bc9311e2fada",
   "metadata": {},
   "outputs": [],
   "source": [
    "sw=stopwords.words('english')\n",
    "final_words=[word for word in tk_file[0] if word not in sw]\n",
    "final_words.sort()\n",
    "\n",
    "sample_file=list()\n",
    "for item in final_words:\n",
    "    if item not in sample_file:\n",
    "        sample_file.append(item)"
   ]
  },
  {
   "cell_type": "code",
   "execution_count": 180,
   "id": "92e0a4bb-a11e-4779-b08c-09457a65d822",
   "metadata": {},
   "outputs": [],
   "source": [
    "rating=[]\n",
    "for i,items in enumerate(final_groups):\n",
    "    a = set(final_groups[i])\n",
    "    b = set(sample_file)\n",
    "    similarity = float(len(a.intersection(b))*100)\n",
    "    rating.append(similarity)"
   ]
  },
  {
   "cell_type": "code",
   "execution_count": 181,
   "id": "ecfe4e9d-6f1d-43db-9ec1-0f583bf6134c",
   "metadata": {},
   "outputs": [
    {
     "name": "stdout",
     "output_type": "stream",
     "text": [
      "Rating of group1 is : 3\n",
      "Rating of group2 is : 2\n",
      "Rating of group3 is : 1\n",
      "Rating of group4 is : 3\n",
      "Rating of group5 is : 1\n"
     ]
    }
   ],
   "source": [
    "avg=(max(rating)-min(rating))/2\n",
    "for i in range(5):\n",
    "    if(rating[i]>avg):\n",
    "        print(\"Rating of \"+grp_name[i]+\" is : 3\")\n",
    "    else :\n",
    "        if(rating[i]<avg and rating[i]>min(rating)):\n",
    "            print(\"Rating of \"+grp_name[i]+\" is : 2\")\n",
    "        else:\n",
    "            print(\"Rating of \"+grp_name[i]+\" is : 1\")"
   ]
  },
  {
   "cell_type": "code",
   "execution_count": null,
   "id": "7a90bce0-d688-4dd5-bb15-1e0d3a3a159a",
   "metadata": {},
   "outputs": [],
   "source": []
  },
  {
   "cell_type": "code",
   "execution_count": 165,
   "id": "a5794046-b49d-48ae-ae40-0f364e772827",
   "metadata": {},
   "outputs": [
    {
     "data": {
      "text/plain": [
       "1750.0"
      ]
     },
     "execution_count": 165,
     "metadata": {},
     "output_type": "execute_result"
    }
   ],
   "source": [
    "avg"
   ]
  },
  {
   "cell_type": "code",
   "execution_count": null,
   "id": "da3d11aa-103d-40ae-9dee-eb87454e9592",
   "metadata": {},
   "outputs": [],
   "source": []
  }
 ],
 "metadata": {
  "kernelspec": {
   "display_name": "Python 3",
   "language": "python",
   "name": "python3"
  },
  "language_info": {
   "codemirror_mode": {
    "name": "ipython",
    "version": 3
   },
   "file_extension": ".py",
   "mimetype": "text/x-python",
   "name": "python",
   "nbconvert_exporter": "python",
   "pygments_lexer": "ipython3",
   "version": "3.8.8"
  }
 },
 "nbformat": 4,
 "nbformat_minor": 5
}
